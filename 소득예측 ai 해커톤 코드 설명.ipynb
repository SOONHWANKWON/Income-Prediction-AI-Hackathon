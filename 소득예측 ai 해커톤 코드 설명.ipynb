{
 "cells": [
  {
   "cell_type": "markdown",
   "id": "75081029-f3ec-414c-9126-586cd0b22332",
   "metadata": {},
   "source": [
    "# 소득 예측 전체코드 설명"
   ]
  },
  {
   "cell_type": "code",
   "execution_count": null,
   "id": "4ab34b68-3cff-4fa0-a7d4-866cf6a96dfe",
   "metadata": {},
   "outputs": [],
   "source": [
    "mport pandas as pd\n",
    "import numpy as np\n",
    "import matplotlib.pyplot as plt\n",
    "import seaborn as sns\n",
    "import warnings\n",
    "warnings.filterwarnings('ignore')\n",
    "\n",
    "# Regression Libraries\n",
    "from catboost import CatBoostRegressor\n",
    "from sklearn.preprocessing import LabelEncoder\n",
    "from sklearn.model_selection import train_test_split\n",
    "from sklearn.metrics import r2_score"
   ]
  },
  {
   "cell_type": "markdown",
   "id": "ca76561d-340a-4501-a38c-de04e3861cf0",
   "metadata": {},
   "source": [
    "### 파일 경로 설정"
   ]
  },
  {
   "cell_type": "code",
   "execution_count": null,
   "id": "9c0852d6-a4a4-4a9d-8002-6273fc87366a",
   "metadata": {},
   "outputs": [],
   "source": [
    "train_file_path = r\"C:\\Users\\mytoo\\OneDrive\\바탕 화면\\소득예측\\train.csv\"\n",
    "test_file_path = r\"C:\\Users\\mytoo\\OneDrive\\바탕 화면\\소득예측\\test.csv\"\n",
    "sample_submission_file_path = r\"C:\\Users\\mytoo\\OneDrive\\바탕 화면\\소득예측\\sample_submission.csv\""
   ]
  },
  {
   "cell_type": "markdown",
   "id": "7202c8e5-fb3f-4553-94ea-c341cc026180",
   "metadata": {},
   "source": [
    "### 데이터 로드"
   ]
  },
  {
   "cell_type": "code",
   "execution_count": null,
   "id": "0d84fb8c-a0a9-4b4c-9c40-2076dfb676f7",
   "metadata": {},
   "outputs": [],
   "source": [
    "train = pd.read_csv(train_file_path)\n",
    "test = pd.read_csv(test_file_path)\n",
    "sample_submission = pd.read_csv(sample_submission_file_path)\n",
    "\n",
    "train.info()"
   ]
  },
  {
   "cell_type": "markdown",
   "id": "3eff59df-d6fa-44b0-a2fa-0b2a67c60508",
   "metadata": {},
   "source": [
    "### 타깃 밸류인 income 확인해보기"
   ]
  },
  {
   "cell_type": "code",
   "execution_count": null,
   "id": "3f8cb302-a4d4-4c96-893a-0ad5531238d8",
   "metadata": {},
   "outputs": [],
   "source": [
    "fig, axes = plt.subplots(1, 2, figsize=(10, 4))\n",
    "train['Income'].hist(bins=50, ax=axes[0])\n",
    "axes[0].set_title('Histogram')\n",
    "train['Income'].plot(kind='box', ax=axes[1])\n",
    "axes[1].set_title('Boxplot')\n",
    "plt.tight_layout()\n",
    "plt.show()"
   ]
  },
  {
   "cell_type": "markdown",
   "id": "db21cfeb-9b93-48ea-9621-b2b3def9a113",
   "metadata": {},
   "source": [
    "### 이상치 제거"
   ]
  },
  {
   "cell_type": "code",
   "execution_count": null,
   "id": "b905a61a-99a8-4c8d-bec9-15d2e63a451e",
   "metadata": {},
   "outputs": [],
   "source": [
    "idx = train[(train['Income'] >= 5000) & (train['Income'] < 10000) & (train['Income_Status'] == 'Under Median')].index\n",
    "train.drop(idx, axis=0, inplace=True)\n",
    "\n",
    "fig, axes = plt.subplots(1, 2, figsize=(10, 4))\n",
    "train['Gains'].hist(bins=50, ax=axes[0])\n",
    "axes[0].set_title('Histogram')\n",
    "train['Gains'].plot(kind='box', ax=axes[1])\n",
    "axes[1].set_title('Boxplot')\n",
    "plt.tight_layout()\n",
    "plt.show()\n",
    "\n",
    "train['Gains'].head()\n",
    "train.loc[(train['Gains'] == 99999), 'Gains'] = 0\n",
    "\n",
    "def make_derived(df):\n",
    "    df['Immigrant_Background'] = np.where((df['Birth_Country'] == 'US') & (df['Birth_Country (Father)'] == 'US'), 'Native', 'Immigrant')\n",
    "    df['Total Income indicator'] = (df['Gains'] - df['Losses'] + df['Dividends'])\n",
    "    df['Total Income indicator'] = df['Total Income indicator'] / np.sqrt(np.sum(df['Total Income indicator']**2))\n",
    "    return df\n",
    "\n",
    "make_derived(train)\n",
    "make_derived(test)"
   ]
  },
  {
   "cell_type": "markdown",
   "id": "a4ddfccb-1bd6-4eb9-a9fc-0890d32edeb4",
   "metadata": {},
   "source": [
    "### Income_Status가 'Unknown'인 행들의 Income 값이 어떤 분포를 가지고 있는지 알아보기"
   ]
  },
  {
   "cell_type": "code",
   "execution_count": null,
   "id": "16a2be3c-2267-49ea-a6e5-65ede71807a4",
   "metadata": {},
   "outputs": [],
   "source": [
    "print(train[(train['Income_Status'] == 'Unknown')]['Income'].describe())"
   ]
  },
  {
   "cell_type": "markdown",
   "id": "b01b00bb-f4c7-4c63-8998-e6ff842b3cf2",
   "metadata": {},
   "source": [
    "### 'Income' 이상치 확인"
   ]
  },
  {
   "cell_type": "code",
   "execution_count": null,
   "id": "353e376c-04e0-433f-8d2e-dbc5f00b6829",
   "metadata": {},
   "outputs": [],
   "source": [
    "plt.figure(figsize=(10, 6))\n",
    "plt.boxplot(train['Income'])\n",
    "plt.title('Box Plot of Income')\n",
    "plt.ylabel('Income')\n",
    "plt.show()\n",
    "\n",
    "over_idx = train[train['Income'] > 7500].index\n",
    "print(over_idx)\n",
    "train.drop(over_idx, axis=0, inplace=True)"
   ]
  },
  {
   "cell_type": "markdown",
   "id": "1ccd723e-1301-4fd9-93a1-6747bf647cbb",
   "metadata": {},
   "source": [
    "###  test 파일의 결측값 확인"
   ]
  },
  {
   "cell_type": "code",
   "execution_count": null,
   "id": "bd63b1bc-a657-438f-aef3-694c16f88cf6",
   "metadata": {},
   "outputs": [],
   "source": [
    "missing_test = test[test.isnull().any(axis=1)]\n",
    "print(missing_test)"
   ]
  },
  {
   "cell_type": "markdown",
   "id": "3719444b-00c4-4a10-89f9-1d2889dbd90d",
   "metadata": {},
   "source": [
    "### test 파일의 결측값이 있는 행 삭제"
   ]
  },
  {
   "cell_type": "code",
   "execution_count": null,
   "id": "cb34e42e-faff-4136-9da4-256bc62a71f4",
   "metadata": {},
   "outputs": [],
   "source": [
    "test_cleaned = test.dropna()"
   ]
  },
  {
   "cell_type": "markdown",
   "id": "df3efd1e-463c-4cb8-addd-477a16f68404",
   "metadata": {},
   "source": [
    "### 결과 확인"
   ]
  },
  {
   "cell_type": "code",
   "execution_count": null,
   "id": "10d18d87-0f27-4264-8f82-8dd526e9f662",
   "metadata": {},
   "outputs": [],
   "source": [
    "print(\"결측값이 있는 행이 삭제된 test DataFrame:\")\n",
    "print(test_cleaned)"
   ]
  },
  {
   "cell_type": "markdown",
   "id": "550775b5-c8e6-4ca8-a252-c22cc6451e1a",
   "metadata": {},
   "source": [
    "### 인덱스 리셋"
   ]
  },
  {
   "cell_type": "code",
   "execution_count": null,
   "id": "84c11beb-4cdb-4894-8f71-6a493e40ea21",
   "metadata": {},
   "outputs": [],
   "source": [
    "train.reset_index(drop=True, inplace=True)\n",
    "test_cleaned.reset_index(drop=True, inplace=True)"
   ]
  },
  {
   "cell_type": "markdown",
   "id": "3565b869-101c-4f29-a611-ce907f9c6339",
   "metadata": {},
   "source": [
    "### 'ID' 열 제거"
   ]
  },
  {
   "cell_type": "code",
   "execution_count": null,
   "id": "f1f1f981-7813-4716-993d-7dad181b82ce",
   "metadata": {},
   "outputs": [],
   "source": [
    "test_ids = test_cleaned['ID']\n",
    "train = train.drop('ID', axis=1)\n",
    "test_cleaned = test_cleaned.drop('ID', axis=1)"
   ]
  },
  {
   "cell_type": "markdown",
   "id": "b119493e-3a73-4c31-91a3-e7ab80da006f",
   "metadata": {},
   "source": [
    "### 범주형 변수 확인"
   ]
  },
  {
   "cell_type": "code",
   "execution_count": null,
   "id": "5e96358d-1db3-4c79-9e1c-98e5c2f74a98",
   "metadata": {},
   "outputs": [],
   "source": [
    "categorical_columns = train.select_dtypes(include=['object']).columns\n",
    "print(\"\\n범주형 컬럼:\")\n",
    "print(categorical_columns)"
   ]
  },
  {
   "cell_type": "markdown",
   "id": "378c24bf-9fdb-467e-b9b7-6c7dece95360",
   "metadata": {},
   "source": [
    "### 라벨 인코딩"
   ]
  },
  {
   "cell_type": "code",
   "execution_count": null,
   "id": "510a8c15-bdac-4971-9465-9463e1d113f3",
   "metadata": {},
   "outputs": [],
   "source": [
    "label_encoders = {}\n",
    "for col in categorical_columns:\n",
    "    le = LabelEncoder()\n",
    "    train[col] = le.fit_transform(train[col].astype(str))\n",
    "    test_cleaned[col] = le.transform(test_cleaned[col].astype(str))\n",
    "    label_encoders[col] = le"
   ]
  },
  {
   "cell_type": "markdown",
   "id": "902487a2-4d90-4af3-bf01-e81aceaefaf7",
   "metadata": {},
   "source": [
    "### 독립 변수(X)와 종속 변수(y) 분리"
   ]
  },
  {
   "cell_type": "code",
   "execution_count": null,
   "id": "ea86c281-3efb-4bf2-9f85-25b97c6c6b49",
   "metadata": {},
   "outputs": [],
   "source": [
    "X = train.drop(['Income'], axis=1)\n",
    "y = train['Income']"
   ]
  },
  {
   "cell_type": "markdown",
   "id": "2ef79890-23ab-4d3d-9b87-2cd968e6f3fb",
   "metadata": {},
   "source": [
    "### train_test_split을 사용하여 데이터 분할"
   ]
  },
  {
   "cell_type": "code",
   "execution_count": null,
   "id": "3fd5bb54-85c2-4849-8d8e-ee97281d7174",
   "metadata": {},
   "outputs": [],
   "source": [
    "X_train, X_val, y_train, y_val = train_test_split(X, y, test_size=0.2, random_state=42)\n",
    "\n",
    "print(\"\\n훈련용 데이터셋 크기: \", X_train.shape)\n",
    "print(\"검증용 데이터셋 크기: \", X_val.shape)"
   ]
  },
  {
   "cell_type": "markdown",
   "id": "b735e5ad-34f9-42c5-a341-c0dc09e1dc0c",
   "metadata": {},
   "source": [
    "### 범주형 변수 인덱스 지정"
   ]
  },
  {
   "cell_type": "code",
   "execution_count": null,
   "id": "1723fabc-459a-4bbe-a276-851ec5cb0314",
   "metadata": {},
   "outputs": [],
   "source": [
    "cat_features = [X.columns.get_loc(col) for col in categorical_columns]"
   ]
  },
  {
   "cell_type": "markdown",
   "id": "e97e049c-0045-44f0-a343-b5bbe071fc0b",
   "metadata": {},
   "source": [
    "### CatBoostRegressor 모델 학습"
   ]
  },
  {
   "cell_type": "code",
   "execution_count": null,
   "id": "ab0bc543-a13d-45e4-ad10-dec5248a6913",
   "metadata": {},
   "outputs": [],
   "source": [
    "model = CatBoostRegressor(random_state=42, cat_features=cat_features, verbose=500)\n",
    "model.fit(X_train, y_train)"
   ]
  },
  {
   "cell_type": "markdown",
   "id": "c43d2092-66a7-47c2-bd4e-7b05a123cf04",
   "metadata": {},
   "source": [
    "### 검증용 데이터셋으로 예측 수행"
   ]
  },
  {
   "cell_type": "code",
   "execution_count": null,
   "id": "87764450-ed86-4922-ba0a-cdbed2ef21d0",
   "metadata": {},
   "outputs": [],
   "source": [
    "y_pred = model.predict(X_val)"
   ]
  },
  {
   "cell_type": "markdown",
   "id": "d9bb6362-e1d8-4c16-a2b8-3150e848398f",
   "metadata": {},
   "source": [
    "### 에측 성능 평가"
   ]
  },
  {
   "cell_type": "code",
   "execution_count": null,
   "id": "79a939b7-fcd5-4909-b8ce-56cc3fc4696f",
   "metadata": {},
   "outputs": [],
   "source": [
    "r2 = r2_score(y_val, y_pred)\n",
    "print(\"\\nR^2 Score: \", r2)"
   ]
  },
  {
   "cell_type": "markdown",
   "id": "c5307aa1-2272-4933-9e11-95e906d907f9",
   "metadata": {},
   "source": [
    "### 테스트 데이터 예측 수행"
   ]
  },
  {
   "cell_type": "code",
   "execution_count": null,
   "id": "ff4cfe91-f071-4a24-9402-aa66b5d76144",
   "metadata": {},
   "outputs": [],
   "source": [
    "test_predictions = model.predict(test_cleaned)"
   ]
  },
  {
   "cell_type": "markdown",
   "id": "e60ff3f2-1ea2-4079-b32f-12f40a2afb62",
   "metadata": {},
   "source": [
    "### 결과를 데이터프레임으로 저장"
   ]
  },
  {
   "cell_type": "code",
   "execution_count": null,
   "id": "3621920c-79ed-4b95-873c-3f4d7dd51af1",
   "metadata": {},
   "outputs": [],
   "source": [
    "submission = pd.DataFrame({'ID': test_ids, 'Income': test_predictions})"
   ]
  },
  {
   "cell_type": "markdown",
   "id": "31a2b74f-bc11-43a0-b822-4a878144a961",
   "metadata": {},
   "source": [
    "### 예측 결과를 CSV 파일로 저장"
   ]
  },
  {
   "cell_type": "code",
   "execution_count": null,
   "id": "f788379c-bf54-4b4f-89ed-94929c39d2f8",
   "metadata": {},
   "outputs": [],
   "source": [
    "submission_file_path = r\"C:\\Users\\mytoo\\OneDrive\\바탕 화면\\소득예측\\submission.csv\"\n",
    "submission.to_csv(submission_file_path, index=False)\n",
    "print(submission_file_path)"
   ]
  }
 ],
 "metadata": {
  "kernelspec": {
   "display_name": "Python 3 (ipykernel)",
   "language": "python",
   "name": "python3"
  },
  "language_info": {
   "codemirror_mode": {
    "name": "ipython",
    "version": 3
   },
   "file_extension": ".py",
   "mimetype": "text/x-python",
   "name": "python",
   "nbconvert_exporter": "python",
   "pygments_lexer": "ipython3",
   "version": "3.12.4"
  }
 },
 "nbformat": 4,
 "nbformat_minor": 5
}
